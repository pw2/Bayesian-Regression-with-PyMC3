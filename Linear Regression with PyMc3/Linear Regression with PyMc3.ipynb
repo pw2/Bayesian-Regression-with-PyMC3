{
 "cells": [
  {
   "cell_type": "code",
   "execution_count": 1,
   "id": "5a10b2f8",
   "metadata": {},
   "outputs": [],
   "source": [
    "import pandas as pd\n",
    "import numpy as np\n",
    "import matplotlib.pyplot as plt \n",
    "import seaborn as sns\n",
    "import pymc3 as pm\n",
    "import arviz as az \n",
    "import os"
   ]
  },
  {
   "cell_type": "code",
   "execution_count": 4,
   "id": "01c67362",
   "metadata": {},
   "outputs": [],
   "source": [
    "# load mtcars\n",
    "d = pd.read_csv('mtcars.csv')"
   ]
  },
  {
   "cell_type": "code",
   "execution_count": 5,
   "id": "4a61c845",
   "metadata": {},
   "outputs": [
    {
     "data": {
      "text/html": [
       "<div>\n",
       "<style scoped>\n",
       "    .dataframe tbody tr th:only-of-type {\n",
       "        vertical-align: middle;\n",
       "    }\n",
       "\n",
       "    .dataframe tbody tr th {\n",
       "        vertical-align: top;\n",
       "    }\n",
       "\n",
       "    .dataframe thead th {\n",
       "        text-align: right;\n",
       "    }\n",
       "</style>\n",
       "<table border=\"1\" class=\"dataframe\">\n",
       "  <thead>\n",
       "    <tr style=\"text-align: right;\">\n",
       "      <th></th>\n",
       "      <th>mpg</th>\n",
       "      <th>cyl</th>\n",
       "      <th>disp</th>\n",
       "      <th>hp</th>\n",
       "      <th>drat</th>\n",
       "      <th>wt</th>\n",
       "      <th>qsec</th>\n",
       "      <th>vs</th>\n",
       "      <th>am</th>\n",
       "      <th>gear</th>\n",
       "      <th>carb</th>\n",
       "    </tr>\n",
       "  </thead>\n",
       "  <tbody>\n",
       "    <tr>\n",
       "      <th>0</th>\n",
       "      <td>21.0</td>\n",
       "      <td>6</td>\n",
       "      <td>160.0</td>\n",
       "      <td>110</td>\n",
       "      <td>3.90</td>\n",
       "      <td>2.620</td>\n",
       "      <td>16.46</td>\n",
       "      <td>0</td>\n",
       "      <td>1</td>\n",
       "      <td>4</td>\n",
       "      <td>4</td>\n",
       "    </tr>\n",
       "    <tr>\n",
       "      <th>1</th>\n",
       "      <td>21.0</td>\n",
       "      <td>6</td>\n",
       "      <td>160.0</td>\n",
       "      <td>110</td>\n",
       "      <td>3.90</td>\n",
       "      <td>2.875</td>\n",
       "      <td>17.02</td>\n",
       "      <td>0</td>\n",
       "      <td>1</td>\n",
       "      <td>4</td>\n",
       "      <td>4</td>\n",
       "    </tr>\n",
       "    <tr>\n",
       "      <th>2</th>\n",
       "      <td>22.8</td>\n",
       "      <td>4</td>\n",
       "      <td>108.0</td>\n",
       "      <td>93</td>\n",
       "      <td>3.85</td>\n",
       "      <td>2.320</td>\n",
       "      <td>18.61</td>\n",
       "      <td>1</td>\n",
       "      <td>1</td>\n",
       "      <td>4</td>\n",
       "      <td>1</td>\n",
       "    </tr>\n",
       "    <tr>\n",
       "      <th>3</th>\n",
       "      <td>21.4</td>\n",
       "      <td>6</td>\n",
       "      <td>258.0</td>\n",
       "      <td>110</td>\n",
       "      <td>3.08</td>\n",
       "      <td>3.215</td>\n",
       "      <td>19.44</td>\n",
       "      <td>1</td>\n",
       "      <td>0</td>\n",
       "      <td>3</td>\n",
       "      <td>1</td>\n",
       "    </tr>\n",
       "    <tr>\n",
       "      <th>4</th>\n",
       "      <td>18.7</td>\n",
       "      <td>8</td>\n",
       "      <td>360.0</td>\n",
       "      <td>175</td>\n",
       "      <td>3.15</td>\n",
       "      <td>3.440</td>\n",
       "      <td>17.02</td>\n",
       "      <td>0</td>\n",
       "      <td>0</td>\n",
       "      <td>3</td>\n",
       "      <td>2</td>\n",
       "    </tr>\n",
       "  </tbody>\n",
       "</table>\n",
       "</div>"
      ],
      "text/plain": [
       "    mpg  cyl   disp   hp  drat     wt   qsec  vs  am  gear  carb\n",
       "0  21.0    6  160.0  110  3.90  2.620  16.46   0   1     4     4\n",
       "1  21.0    6  160.0  110  3.90  2.875  17.02   0   1     4     4\n",
       "2  22.8    4  108.0   93  3.85  2.320  18.61   1   1     4     1\n",
       "3  21.4    6  258.0  110  3.08  3.215  19.44   1   0     3     1\n",
       "4  18.7    8  360.0  175  3.15  3.440  17.02   0   0     3     2"
      ]
     },
     "execution_count": 5,
     "metadata": {},
     "output_type": "execute_result"
    }
   ],
   "source": [
    "d.head()"
   ]
  },
  {
   "cell_type": "code",
   "execution_count": 6,
   "id": "cf9f8bd2",
   "metadata": {},
   "outputs": [
    {
     "data": {
      "text/plain": [
       "32"
      ]
     },
     "execution_count": 6,
     "metadata": {},
     "output_type": "execute_result"
    }
   ],
   "source": [
    "## number of observations\n",
    "len(d)"
   ]
  },
  {
   "cell_type": "code",
   "execution_count": 7,
   "id": "7f30fbb8",
   "metadata": {},
   "outputs": [
    {
     "data": {
      "text/plain": [
       "<matplotlib.collections.PathCollection at 0x12854e150>"
      ]
     },
     "execution_count": 7,
     "metadata": {},
     "output_type": "execute_result"
    },
    {
     "data": {
      "image/png": "[encoded data removed]",
      "text/plain": [
       "<Figure size 432x288 with 1 Axes>"
      ]
     },
     "metadata": {
      "needs_background": "light"
     },
     "output_type": "display_data"
    }
   ],
   "source": [
    "# plot relationship beteen weight and mph\n",
    "\n",
    "plt.scatter(x = d['wt'], y = d['mpg'])"
   ]
  },
  {
   "cell_type": "code",
   "execution_count": 8,
   "id": "122d4e14",
   "metadata": {},
   "outputs": [
    {
     "data": {
      "text/plain": [
       "<AxesSubplot:xlabel='wt', ylabel='Density'>"
      ]
     },
     "execution_count": 8,
     "metadata": {},
     "output_type": "execute_result"
    },
    {
     "data": {
      "image/png": "[encoded data removed]",
      "text/plain": [
       "<Figure size 432x288 with 1 Axes>"
      ]
     },
     "metadata": {
      "needs_background": "light"
     },
     "output_type": "display_data"
    }
   ],
   "source": [
    "sns.kdeplot(d['wt'], shade = True)"
   ]
  },
  {
   "cell_type": "code",
   "execution_count": 9,
   "id": "4525b563",
   "metadata": {},
   "outputs": [
    {
     "data": {
      "text/plain": [
       "<AxesSubplot:xlabel='mpg', ylabel='Density'>"
      ]
     },
     "execution_count": 9,
     "metadata": {},
     "output_type": "execute_result"
    },
    {
     "data": {
      "image/png": "[encoded data removed]",
      "text/plain": [
       "<Figure size 432x288 with 1 Axes>"
      ]
     },
     "metadata": {
      "needs_background": "light"
     },
     "output_type": "display_data"
    }
   ],
   "source": [
    "sns.kdeplot(d['mpg'], shade = True)"
   ]
  },
  {
   "cell_type": "code",
   "execution_count": 10,
   "id": "ef1e38d4",
   "metadata": {},
   "outputs": [
    {
     "data": {
      "text/plain": [
       "0.00    1.51\n",
       "0.25    2.58\n",
       "0.50    3.32\n",
       "0.75    3.61\n",
       "1.00    5.42\n",
       "Name: wt, dtype: float64"
      ]
     },
     "execution_count": 10,
     "metadata": {},
     "output_type": "execute_result"
    }
   ],
   "source": [
    "d['wt'].quantile([0, 0.25, 0.5, 0.75, 1]).round(2)"
   ]
  },
  {
   "cell_type": "code",
   "execution_count": 11,
   "id": "201b7cfe",
   "metadata": {},
   "outputs": [
    {
     "data": {
      "text/plain": [
       "0.00    10.40\n",
       "0.25    15.42\n",
       "0.50    19.20\n",
       "0.75    22.80\n",
       "1.00    33.90\n",
       "Name: mpg, dtype: float64"
      ]
     },
     "execution_count": 11,
     "metadata": {},
     "output_type": "execute_result"
    }
   ],
   "source": [
    "d['mpg'].quantile([0, 0.25, 0.5, 0.75, 1]).round(2)"
   ]
  },
  {
   "cell_type": "code",
   "execution_count": 12,
   "id": "17ff93d1",
   "metadata": {},
   "outputs": [
    {
     "data": {
      "text/html": [
       "<div>\n",
       "<style scoped>\n",
       "    .dataframe tbody tr th:only-of-type {\n",
       "        vertical-align: middle;\n",
       "    }\n",
       "\n",
       "    .dataframe tbody tr th {\n",
       "        vertical-align: top;\n",
       "    }\n",
       "\n",
       "    .dataframe thead th {\n",
       "        text-align: right;\n",
       "    }\n",
       "</style>\n",
       "<table border=\"1\" class=\"dataframe\">\n",
       "  <thead>\n",
       "    <tr style=\"text-align: right;\">\n",
       "      <th></th>\n",
       "      <th>wt</th>\n",
       "      <th>mpg</th>\n",
       "    </tr>\n",
       "  </thead>\n",
       "  <tbody>\n",
       "    <tr>\n",
       "      <th>count</th>\n",
       "      <td>32.00</td>\n",
       "      <td>32.00</td>\n",
       "    </tr>\n",
       "    <tr>\n",
       "      <th>mean</th>\n",
       "      <td>3.22</td>\n",
       "      <td>20.09</td>\n",
       "    </tr>\n",
       "    <tr>\n",
       "      <th>std</th>\n",
       "      <td>0.98</td>\n",
       "      <td>6.03</td>\n",
       "    </tr>\n",
       "    <tr>\n",
       "      <th>min</th>\n",
       "      <td>1.51</td>\n",
       "      <td>10.40</td>\n",
       "    </tr>\n",
       "    <tr>\n",
       "      <th>25%</th>\n",
       "      <td>2.58</td>\n",
       "      <td>15.42</td>\n",
       "    </tr>\n",
       "    <tr>\n",
       "      <th>50%</th>\n",
       "      <td>3.32</td>\n",
       "      <td>19.20</td>\n",
       "    </tr>\n",
       "    <tr>\n",
       "      <th>75%</th>\n",
       "      <td>3.61</td>\n",
       "      <td>22.80</td>\n",
       "    </tr>\n",
       "    <tr>\n",
       "      <th>max</th>\n",
       "      <td>5.42</td>\n",
       "      <td>33.90</td>\n",
       "    </tr>\n",
       "  </tbody>\n",
       "</table>\n",
       "</div>"
      ],
      "text/plain": [
       "          wt    mpg\n",
       "count  32.00  32.00\n",
       "mean    3.22  20.09\n",
       "std     0.98   6.03\n",
       "min     1.51  10.40\n",
       "25%     2.58  15.42\n",
       "50%     3.32  19.20\n",
       "75%     3.61  22.80\n",
       "max     5.42  33.90"
      ]
     },
     "execution_count": 12,
     "metadata": {},
     "output_type": "execute_result"
    }
   ],
   "source": [
    "d[['wt', 'mpg']].describe().round(2)"
   ]
  },
  {
   "cell_type": "markdown",
   "id": "e3469c84",
   "metadata": {},
   "source": [
    "## Linear Model"
   ]
  },
  {
   "cell_type": "code",
   "execution_count": 13,
   "id": "ad5cb34d",
   "metadata": {},
   "outputs": [],
   "source": [
    "import statsmodels.api as sm"
   ]
  },
  {
   "cell_type": "code",
   "execution_count": 14,
   "id": "a75de2db",
   "metadata": {},
   "outputs": [
    {
     "name": "stderr",
     "output_type": "stream",
     "text": [
      "/anaconda3/lib/python3.7/site-packages/statsmodels/tsa/tsatools.py:142: FutureWarning: In a future version of pandas all arguments of concat except for the argument 'objs' will be keyword-only\n",
      "  x = pd.concat(x[::order], 1)\n"
     ]
    }
   ],
   "source": [
    "x = d['wt']\n",
    "y = d['mpg']\n",
    "\n",
    "x = sm.add_constant(x)\n",
    "\n",
    "fit = sm.OLS(y, x).fit()"
   ]
  },
  {
   "cell_type": "code",
   "execution_count": 15,
   "id": "98ae927e",
   "metadata": {},
   "outputs": [
    {
     "data": {
      "text/html": [
       "<table class=\"simpletable\">\n",
       "<caption>OLS Regression Results</caption>\n",
       "<tr>\n",
       "  <th>Dep. Variable:</th>           <td>mpg</td>       <th>  R-squared:         </th> <td>   0.753</td>\n",
       "</tr>\n",
       "<tr>\n",
       "  <th>Model:</th>                   <td>OLS</td>       <th>  Adj. R-squared:    </th> <td>   0.745</td>\n",
       "</tr>\n",
       "<tr>\n",
       "  <th>Method:</th>             <td>Least Squares</td>  <th>  F-statistic:       </th> <td>   91.38</td>\n",
       "</tr>\n",
       "<tr>\n",
       "  <th>Date:</th>             <td>Wed, 25 Jan 2023</td> <th>  Prob (F-statistic):</th> <td>1.29e-10</td>\n",
       "</tr>\n",
       "<tr>\n",
       "  <th>Time:</th>                 <td>05:48:33</td>     <th>  Log-Likelihood:    </th> <td> -80.015</td>\n",
       "</tr>\n",
       "<tr>\n",
       "  <th>No. Observations:</th>      <td>    32</td>      <th>  AIC:               </th> <td>   164.0</td>\n",
       "</tr>\n",
       "<tr>\n",
       "  <th>Df Residuals:</th>          <td>    30</td>      <th>  BIC:               </th> <td>   167.0</td>\n",
       "</tr>\n",
       "<tr>\n",
       "  <th>Df Model:</th>              <td>     1</td>      <th>                     </th>     <td> </td>   \n",
       "</tr>\n",
       "<tr>\n",
       "  <th>Covariance Type:</th>      <td>nonrobust</td>    <th>                     </th>     <td> </td>   \n",
       "</tr>\n",
       "</table>\n",
       "<table class=\"simpletable\">\n",
       "<tr>\n",
       "    <td></td>       <th>coef</th>     <th>std err</th>      <th>t</th>      <th>P>|t|</th>  <th>[0.025</th>    <th>0.975]</th>  \n",
       "</tr>\n",
       "<tr>\n",
       "  <th>const</th> <td>   37.2851</td> <td>    1.878</td> <td>   19.858</td> <td> 0.000</td> <td>   33.450</td> <td>   41.120</td>\n",
       "</tr>\n",
       "<tr>\n",
       "  <th>wt</th>    <td>   -5.3445</td> <td>    0.559</td> <td>   -9.559</td> <td> 0.000</td> <td>   -6.486</td> <td>   -4.203</td>\n",
       "</tr>\n",
       "</table>\n",
       "<table class=\"simpletable\">\n",
       "<tr>\n",
       "  <th>Omnibus:</th>       <td> 2.988</td> <th>  Durbin-Watson:     </th> <td>   1.252</td>\n",
       "</tr>\n",
       "<tr>\n",
       "  <th>Prob(Omnibus):</th> <td> 0.225</td> <th>  Jarque-Bera (JB):  </th> <td>   2.399</td>\n",
       "</tr>\n",
       "<tr>\n",
       "  <th>Skew:</th>          <td> 0.668</td> <th>  Prob(JB):          </th> <td>   0.301</td>\n",
       "</tr>\n",
       "<tr>\n",
       "  <th>Kurtosis:</th>      <td> 2.877</td> <th>  Cond. No.          </th> <td>    12.7</td>\n",
       "</tr>\n",
       "</table><br/><br/>Notes:<br/>[1] Standard Errors assume that the covariance matrix of the errors is correctly specified."
      ],
      "text/plain": [
       "<class 'statsmodels.iolib.summary.Summary'>\n",
       "\"\"\"\n",
       "                            OLS Regression Results                            \n",
       "==============================================================================\n",
       "Dep. Variable:                    mpg   R-squared:                       0.753\n",
       "Model:                            OLS   Adj. R-squared:                  0.745\n",
       "Method:                 Least Squares   F-statistic:                     91.38\n",
       "Date:                Wed, 25 Jan 2023   Prob (F-statistic):           1.29e-10\n",
       "Time:                        05:48:33   Log-Likelihood:                -80.015\n",
       "No. Observations:                  32   AIC:                             164.0\n",
       "Df Residuals:                      30   BIC:                             167.0\n",
       "Df Model:                           1                                         \n",
       "Covariance Type:            nonrobust                                         \n",
       "==============================================================================\n",
       "                 coef    std err          t      P>|t|      [0.025      0.975]\n",
       "------------------------------------------------------------------------------\n",
       "const         37.2851      1.878     19.858      0.000      33.450      41.120\n",
       "wt            -5.3445      0.559     -9.559      0.000      -6.486      -4.203\n",
       "==============================================================================\n",
       "Omnibus:                        2.988   Durbin-Watson:                   1.252\n",
       "Prob(Omnibus):                  0.225   Jarque-Bera (JB):                2.399\n",
       "Skew:                           0.668   Prob(JB):                        0.301\n",
       "Kurtosis:                       2.877   Cond. No.                         12.7\n",
       "==============================================================================\n",
       "\n",
       "Notes:\n",
       "[1] Standard Errors assume that the covariance matrix of the errors is correctly specified.\n",
       "\"\"\""
      ]
     },
     "execution_count": 15,
     "metadata": {},
     "output_type": "execute_result"
    }
   ],
   "source": [
    "fit.summary()"
   ]
  },
  {
   "cell_type": "code",
   "execution_count": 16,
   "id": "0da635e2",
   "metadata": {},
   "outputs": [
    {
     "data": {
      "text/plain": [
       "const    37.285126\n",
       "wt       -5.344472\n",
       "dtype: float64"
      ]
     },
     "execution_count": 16,
     "metadata": {},
     "output_type": "execute_result"
    }
   ],
   "source": [
    "## model coefficients\n",
    "fit.params"
   ]
  },
  {
   "cell_type": "code",
   "execution_count": 17,
   "id": "7950be9e",
   "metadata": {},
   "outputs": [
    {
     "data": {
      "text/plain": [
       "const    1.877627\n",
       "wt       0.559101\n",
       "dtype: float64"
      ]
     },
     "execution_count": 17,
     "metadata": {},
     "output_type": "execute_result"
    }
   ],
   "source": [
    "## coefficient standard errors\n",
    "fit.bse"
   ]
  },
  {
   "cell_type": "markdown",
   "id": "00912f48",
   "metadata": {},
   "source": [
    "## Bayesian Regression\n",
    "\n",
    "* We will fit a Bayesian model to the same data\n",
    "* The priors will be specified as normal with a prior intercept of 40 ± 10 and a prior beta for the 'wt' variable of 0 ± 10\n",
    "* These priors were created by first looking at the data that has been collected (which is cheating). Normally we would have priors BEFORE collecting our data and then combine the prior with the observations to obtain a posterior distribution. The aim here is to simply understand the code."
   ]
  },
  {
   "cell_type": "code",
   "execution_count": 18,
   "id": "a8059c73",
   "metadata": {},
   "outputs": [
    {
     "name": "stderr",
     "output_type": "stream",
     "text": [
      "/anaconda3/lib/python3.7/site-packages/ipykernel_launcher.py:9: FutureWarning: In v4.0, pm.sample will return an `arviz.InferenceData` object instead of a `MultiTrace` by default. You can pass return_inferencedata=True or return_inferencedata=False to be safe and silence this warning.\n",
      "  if __name__ == '__main__':\n",
      "Auto-assigning NUTS sampler...\n",
      "Initializing NUTS using jitter+adapt_diag...\n",
      "Multiprocess sampling (2 chains in 2 jobs)\n",
      "NUTS: [e, b, a]\n"
     ]
    },
    {
     "data": {
      "text/html": [
       "\n",
       "    <div>\n",
       "        <style>\n",
       "            /* Turns off some styling */\n",
       "            progress {\n",
       "                /* gets rid of default border in Firefox and Opera. */\n",
       "                border: none;\n",
       "                /* Needs to be in here for Safari polyfill so background images work as expected. */\n",
       "                background-size: auto;\n",
       "            }\n",
       "            .progress-bar-interrupted, .progress-bar-interrupted::-webkit-progress-bar {\n",
       "                background: #F44336;\n",
       "            }\n",
       "        </style>\n",
       "      <progress value='6000' class='' max='6000' style='width:300px; height:20px; vertical-align: middle;'></progress>\n",
       "      100.00% [6000/6000 00:07<00:00 Sampling 2 chains, 0 divergences]\n",
       "    </div>\n",
       "    "
      ],
      "text/plain": [
       "<IPython.core.display.HTML object>"
      ]
     },
     "metadata": {},
     "output_type": "display_data"
    },
    {
     "name": "stderr",
     "output_type": "stream",
     "text": [
      "Sampling 2 chains for 1_000 tune and 2_000 draw iterations (2_000 + 4_000 draws total) took 14 seconds.\n"
     ]
    }
   ],
   "source": [
    "## fit model\n",
    "with pm.Model() as fit_b:\n",
    "    a = pm.Normal('a', mu = 40, sd = 10)\n",
    "    b = pm.Normal('b', mu = 0, sd = 10)\n",
    "    e = pm.HalfCauchy('e', 5)\n",
    "    \n",
    "    y_pred = pm.Normal('y_pred', mu = a + b * d['wt'], sd = e, observed = d['mpg'])\n",
    "    \n",
    "    trace_b = pm.sample(2000, tune = 1000)"
   ]
  },
  {
   "cell_type": "code",
   "execution_count": 19,
   "id": "ca31d428",
   "metadata": {},
   "outputs": [
    {
     "name": "stderr",
     "output_type": "stream",
     "text": [
      "Got error No model on context stack. trying to find log_likelihood in translation.\n",
      "/anaconda3/lib/python3.7/site-packages/arviz/data/io_pymc3_3x.py:102: FutureWarning: Using `from_pymc3` without the model will be deprecated in a future release. Not using the model will return less accurate and less useful results. Make sure you use the model argument or call from_pymc3 within a model context.\n",
      "  FutureWarning,\n",
      "Got error No model on context stack. trying to find log_likelihood in translation.\n"
     ]
    },
    {
     "data": {
      "text/plain": [
       "array([[<AxesSubplot:title={'center':'a'}>,\n",
       "        <AxesSubplot:title={'center':'a'}>],\n",
       "       [<AxesSubplot:title={'center':'b'}>,\n",
       "        <AxesSubplot:title={'center':'b'}>],\n",
       "       [<AxesSubplot:title={'center':'e'}>,\n",
       "        <AxesSubplot:title={'center':'e'}>]], dtype=object)"
      ]
     },
     "execution_count": 19,
     "metadata": {},
     "output_type": "execute_result"
    },
    {
     "data": {
      "image/png": "[encoded data removed]",
      "text/plain": [
       "<Figure size 864x432 with 6 Axes>"
      ]
     },
     "metadata": {
      "needs_background": "light"
     },
     "output_type": "display_data"
    }
   ],
   "source": [
    "## trace plots\n",
    "az.plot_trace(trace_b, var_names = ['a', 'b', 'e'])"
   ]
  },
  {
   "cell_type": "markdown",
   "id": "ce815189",
   "metadata": {},
   "source": [
    "* Our model was named as `model_b` above\n",
    "* The sample from our Markov Chain was named `trace_b`. We can use this to obtain info about the coefficients and make draws from the posterior."
   ]
  },
  {
   "cell_type": "code",
   "execution_count": 20,
   "id": "143d157a",
   "metadata": {},
   "outputs": [
    {
     "data": {
      "text/plain": [
       "(37.33663579074219, -5.358756189126376)"
      ]
     },
     "execution_count": 20,
     "metadata": {},
     "output_type": "execute_result"
    }
   ],
   "source": [
    "## Coefficients\n",
    "trace_b['a'].mean(), trace_b['b'].mean()"
   ]
  },
  {
   "cell_type": "code",
   "execution_count": 21,
   "id": "3e261667",
   "metadata": {},
   "outputs": [
    {
     "data": {
      "text/plain": [
       "(1.947797078798463, 0.5828199037385996)"
      ]
     },
     "execution_count": 21,
     "metadata": {},
     "output_type": "execute_result"
    }
   ],
   "source": [
    "## Coefficient SD\n",
    "trace_b['a'].std(), trace_b['b'].std()"
   ]
  },
  {
   "cell_type": "code",
   "execution_count": 22,
   "id": "505fa03f",
   "metadata": {},
   "outputs": [
    {
     "data": {
      "text/plain": [
       "(array([4.000e+01, 1.420e+02, 5.010e+02, 1.059e+03, 1.262e+03, 7.290e+02,\n",
       "        2.230e+02, 3.200e+01, 1.100e+01, 1.000e+00]),\n",
       " array([30.84559576, 32.40383583, 33.9620759 , 35.52031598, 37.07855605,\n",
       "        38.63679612, 40.19503619, 41.75327626, 43.31151633, 44.8697564 ,\n",
       "        46.42799648]),\n",
       " <BarContainer object of 10 artists>)"
      ]
     },
     "execution_count": 22,
     "metadata": {},
     "output_type": "execute_result"
    },
    {
     "data": {
      "image/png": "[encoded data removed]",
      "text/plain": [
       "<Figure size 432x288 with 1 Axes>"
      ]
     },
     "metadata": {
      "needs_background": "light"
     },
     "output_type": "display_data"
    }
   ],
   "source": [
    "## plot the posterior draws for the intercept\n",
    "\n",
    "plt.hist(trace_b['a'])"
   ]
  },
  {
   "cell_type": "code",
   "execution_count": 23,
   "id": "f7abb7e6",
   "metadata": {},
   "outputs": [
    {
     "data": {
      "text/plain": [
       "(array([1.550e+02, 1.084e+03, 1.454e+03, 8.250e+02, 3.660e+02, 9.100e+01,\n",
       "        1.600e+01, 1.000e+00, 1.000e+00, 7.000e+00]),\n",
       " array([2.12066445, 2.51263087, 2.90459728, 3.2965637 , 3.68853011,\n",
       "        4.08049653, 4.47246294, 4.86442936, 5.25639577, 5.64836219,\n",
       "        6.0403286 ]),\n",
       " <BarContainer object of 10 artists>)"
      ]
     },
     "execution_count": 23,
     "metadata": {},
     "output_type": "execute_result"
    },
    {
     "data": {
      "image/png": "[encoded data removed]",
      "text/plain": [
       "<Figure size 432x288 with 1 Axes>"
      ]
     },
     "metadata": {
      "needs_background": "light"
     },
     "output_type": "display_data"
    }
   ],
   "source": [
    "## plot the posterior draws for the wt coefficient\n",
    "\n",
    "plt.hist(trace_b['e'])"
   ]
  },
  {
   "cell_type": "markdown",
   "id": "908e8a15",
   "metadata": {},
   "source": [
    "## 1. Point Predictions\n",
    "\n",
    "* Make a single point prediction for the `mpg` would expect, on average, when `wt` is a certain value (in this example `wt = 3.3`)"
   ]
  },
  {
   "cell_type": "code",
   "execution_count": 24,
   "id": "e44545d1",
   "metadata": {},
   "outputs": [],
   "source": [
    "## save coefficient averages\n",
    "alpha_m = trace_b['a'].mean()\n",
    "beta_m = trace_b['b'].mean()"
   ]
  },
  {
   "cell_type": "code",
   "execution_count": 25,
   "id": "aab6fc66",
   "metadata": {},
   "outputs": [
    {
     "data": {
      "text/plain": [
       "(37.33663579074219, -5.358756189126376)"
      ]
     },
     "execution_count": 25,
     "metadata": {},
     "output_type": "execute_result"
    }
   ],
   "source": [
    "alpha_m, beta_m"
   ]
  },
  {
   "cell_type": "code",
   "execution_count": 26,
   "id": "f4fc8533",
   "metadata": {},
   "outputs": [],
   "source": [
    "## new weight\n",
    "new_wt = 3.3"
   ]
  },
  {
   "cell_type": "code",
   "execution_count": 27,
   "id": "a9af6e64",
   "metadata": {},
   "outputs": [
    {
     "data": {
      "text/plain": [
       "19.652740366625153"
      ]
     },
     "execution_count": 27,
     "metadata": {},
     "output_type": "execute_result"
    }
   ],
   "source": [
    "# make prediction of mpg\n",
    "alpha_m + beta_m * new_wt"
   ]
  },
  {
   "cell_type": "code",
   "execution_count": 28,
   "id": "821d3c5e",
   "metadata": {},
   "outputs": [],
   "source": [
    "# point prediction for the entire data set\n",
    "d['point_pred'] = alpha_m + beta_m * d['wt']"
   ]
  },
  {
   "cell_type": "code",
   "execution_count": 29,
   "id": "0c68c16a",
   "metadata": {},
   "outputs": [
    {
     "data": {
      "text/html": [
       "<div>\n",
       "<style scoped>\n",
       "    .dataframe tbody tr th:only-of-type {\n",
       "        vertical-align: middle;\n",
       "    }\n",
       "\n",
       "    .dataframe tbody tr th {\n",
       "        vertical-align: top;\n",
       "    }\n",
       "\n",
       "    .dataframe thead th {\n",
       "        text-align: right;\n",
       "    }\n",
       "</style>\n",
       "<table border=\"1\" class=\"dataframe\">\n",
       "  <thead>\n",
       "    <tr style=\"text-align: right;\">\n",
       "      <th></th>\n",
       "      <th>mpg</th>\n",
       "      <th>cyl</th>\n",
       "      <th>disp</th>\n",
       "      <th>hp</th>\n",
       "      <th>drat</th>\n",
       "      <th>wt</th>\n",
       "      <th>qsec</th>\n",
       "      <th>vs</th>\n",
       "      <th>am</th>\n",
       "      <th>gear</th>\n",
       "      <th>carb</th>\n",
       "      <th>point_pred</th>\n",
       "    </tr>\n",
       "  </thead>\n",
       "  <tbody>\n",
       "    <tr>\n",
       "      <th>0</th>\n",
       "      <td>21.0</td>\n",
       "      <td>6</td>\n",
       "      <td>160.0</td>\n",
       "      <td>110</td>\n",
       "      <td>3.90</td>\n",
       "      <td>2.620</td>\n",
       "      <td>16.46</td>\n",
       "      <td>0</td>\n",
       "      <td>1</td>\n",
       "      <td>4</td>\n",
       "      <td>4</td>\n",
       "      <td>23.296695</td>\n",
       "    </tr>\n",
       "    <tr>\n",
       "      <th>1</th>\n",
       "      <td>21.0</td>\n",
       "      <td>6</td>\n",
       "      <td>160.0</td>\n",
       "      <td>110</td>\n",
       "      <td>3.90</td>\n",
       "      <td>2.875</td>\n",
       "      <td>17.02</td>\n",
       "      <td>0</td>\n",
       "      <td>1</td>\n",
       "      <td>4</td>\n",
       "      <td>4</td>\n",
       "      <td>21.930212</td>\n",
       "    </tr>\n",
       "    <tr>\n",
       "      <th>2</th>\n",
       "      <td>22.8</td>\n",
       "      <td>4</td>\n",
       "      <td>108.0</td>\n",
       "      <td>93</td>\n",
       "      <td>3.85</td>\n",
       "      <td>2.320</td>\n",
       "      <td>18.61</td>\n",
       "      <td>1</td>\n",
       "      <td>1</td>\n",
       "      <td>4</td>\n",
       "      <td>1</td>\n",
       "      <td>24.904321</td>\n",
       "    </tr>\n",
       "    <tr>\n",
       "      <th>3</th>\n",
       "      <td>21.4</td>\n",
       "      <td>6</td>\n",
       "      <td>258.0</td>\n",
       "      <td>110</td>\n",
       "      <td>3.08</td>\n",
       "      <td>3.215</td>\n",
       "      <td>19.44</td>\n",
       "      <td>1</td>\n",
       "      <td>0</td>\n",
       "      <td>3</td>\n",
       "      <td>1</td>\n",
       "      <td>20.108235</td>\n",
       "    </tr>\n",
       "    <tr>\n",
       "      <th>4</th>\n",
       "      <td>18.7</td>\n",
       "      <td>8</td>\n",
       "      <td>360.0</td>\n",
       "      <td>175</td>\n",
       "      <td>3.15</td>\n",
       "      <td>3.440</td>\n",
       "      <td>17.02</td>\n",
       "      <td>0</td>\n",
       "      <td>0</td>\n",
       "      <td>3</td>\n",
       "      <td>2</td>\n",
       "      <td>18.902515</td>\n",
       "    </tr>\n",
       "  </tbody>\n",
       "</table>\n",
       "</div>"
      ],
      "text/plain": [
       "    mpg  cyl   disp   hp  drat     wt   qsec  vs  am  gear  carb  point_pred\n",
       "0  21.0    6  160.0  110  3.90  2.620  16.46   0   1     4     4   23.296695\n",
       "1  21.0    6  160.0  110  3.90  2.875  17.02   0   1     4     4   21.930212\n",
       "2  22.8    4  108.0   93  3.85  2.320  18.61   1   1     4     1   24.904321\n",
       "3  21.4    6  258.0  110  3.08  3.215  19.44   1   0     3     1   20.108235\n",
       "4  18.7    8  360.0  175  3.15  3.440  17.02   0   0     3     2   18.902515"
      ]
     },
     "execution_count": 29,
     "metadata": {},
     "output_type": "execute_result"
    }
   ],
   "source": [
    "d.head()"
   ]
  },
  {
   "cell_type": "code",
   "execution_count": 30,
   "id": "08d21d5b",
   "metadata": {},
   "outputs": [],
   "source": [
    "resid = d['mpg'] - d['point_pred']"
   ]
  },
  {
   "cell_type": "code",
   "execution_count": 31,
   "id": "0817688c",
   "metadata": {},
   "outputs": [
    {
     "data": {
      "text/plain": [
       "<AxesSubplot:ylabel='Density'>"
      ]
     },
     "execution_count": 31,
     "metadata": {},
     "output_type": "execute_result"
    },
    {
     "data": {
      "image/png": "[encoded data removed]",
      "text/plain": [
       "<Figure size 432x288 with 1 Axes>"
      ]
     },
     "metadata": {
      "needs_background": "light"
     },
     "output_type": "display_data"
    }
   ],
   "source": [
    "sns.kdeplot(resid)"
   ]
  },
  {
   "cell_type": "code",
   "execution_count": 32,
   "id": "5eee7c1a",
   "metadata": {},
   "outputs": [
    {
     "data": {
      "text/plain": [
       "<matplotlib.collections.PathCollection at 0x12aa70ed0>"
      ]
     },
     "execution_count": 32,
     "metadata": {},
     "output_type": "execute_result"
    },
    {
     "data": {
      "image/png": "[encoded data removed]",
      "text/plain": [
       "<Figure size 432x288 with 1 Axes>"
      ]
     },
     "metadata": {
      "needs_background": "light"
     },
     "output_type": "display_data"
    }
   ],
   "source": [
    "plt.scatter(x = d['mpg'], y = d['point_pred'])"
   ]
  },
  {
   "cell_type": "code",
   "execution_count": 33,
   "id": "659a6a6f",
   "metadata": {},
   "outputs": [
    {
     "data": {
      "text/plain": [
       "2.949199997706439"
      ]
     },
     "execution_count": 33,
     "metadata": {},
     "output_type": "execute_result"
    }
   ],
   "source": [
    "## rmse\n",
    "resid2 = resid**2\n",
    "np.sqrt(resid2.mean())"
   ]
  },
  {
   "cell_type": "markdown",
   "id": "a10fb63e",
   "metadata": {},
   "source": [
    "## 2. Point Prediction with Uncertainty\n",
    "\n",
    "* We compliment the point prediction with a uncertainty interval.\n",
    "* The point prediction ± uncertainty interval informs us of the average value of `mpg` along with the uncertainty of the coefficients in our model."
   ]
  },
  {
   "cell_type": "code",
   "execution_count": 34,
   "id": "4356b40b",
   "metadata": {},
   "outputs": [],
   "source": [
    "## 1000 random draws from the posterior row ids\n",
    "draws_id = np.random.randint(0, len(trace_b['a']), size = 1000)"
   ]
  },
  {
   "cell_type": "code",
   "execution_count": 35,
   "id": "2eda40ee",
   "metadata": {},
   "outputs": [
    {
     "data": {
      "text/plain": [
       "array([ 154, 2072, 1122, 3966, 1638])"
      ]
     },
     "execution_count": 35,
     "metadata": {},
     "output_type": "execute_result"
    }
   ],
   "source": [
    "draws_id[0:5]"
   ]
  },
  {
   "cell_type": "code",
   "execution_count": 36,
   "id": "fbc236d9",
   "metadata": {},
   "outputs": [],
   "source": [
    "# extract the random ids from the intercept and coefficient traces\n",
    "intercept_sample = trace_b['a'][draws_id]\n",
    "beta_sample = trace_b['b'][draws_id]"
   ]
  },
  {
   "cell_type": "code",
   "execution_count": 37,
   "id": "3785100d",
   "metadata": {},
   "outputs": [],
   "source": [
    "# create 1000 repeats of the new weight\n",
    "new_wt_rep = np.repeat(new_wt, repeats = 1000)"
   ]
  },
  {
   "cell_type": "code",
   "execution_count": 38,
   "id": "fca84a65",
   "metadata": {},
   "outputs": [],
   "source": [
    "# make a vector of predictions\n",
    "point_pred_uncertainty = intercept_sample + beta_sample * new_wt_rep"
   ]
  },
  {
   "cell_type": "code",
   "execution_count": 39,
   "id": "8e1d26f8",
   "metadata": {},
   "outputs": [
    {
     "data": {
      "text/plain": [
       "(array([  1.,  15.,  22., 107., 166., 270., 237., 140.,  33.,   9.]),\n",
       " array([17.56891784, 17.94186603, 18.31481422, 18.6877624 , 19.06071059,\n",
       "        19.43365877, 19.80660696, 20.17955514, 20.55250333, 20.92545151,\n",
       "        21.2983997 ]),\n",
       " <BarContainer object of 10 artists>)"
      ]
     },
     "execution_count": 39,
     "metadata": {},
     "output_type": "execute_result"
    },
    {
     "data": {
      "image/png": "[encoded data removed]",
      "text/plain": [
       "<Figure size 432x288 with 1 Axes>"
      ]
     },
     "metadata": {
      "needs_background": "light"
     },
     "output_type": "display_data"
    }
   ],
   "source": [
    "plt.hist(point_pred_uncertainty)"
   ]
  },
  {
   "cell_type": "code",
   "execution_count": 40,
   "id": "1434c867",
   "metadata": {},
   "outputs": [
    {
     "data": {
      "text/plain": [
       "(19.67098850394974, 0.5618677843922413)"
      ]
     },
     "execution_count": 40,
     "metadata": {},
     "output_type": "execute_result"
    }
   ],
   "source": [
    "point_pred_uncertainty.mean(), point_pred_uncertainty.std()"
   ]
  },
  {
   "cell_type": "code",
   "execution_count": 41,
   "id": "be2b4102",
   "metadata": {},
   "outputs": [
    {
     "data": {
      "text/plain": [
       "array([18.75310224, 19.70141562, 20.51377782])"
      ]
     },
     "execution_count": 41,
     "metadata": {},
     "output_type": "execute_result"
    }
   ],
   "source": [
    "## 90% Quantile Interval\n",
    "np.quantile(point_pred_uncertainty, [0.05, 0.5, 0.95])"
   ]
  },
  {
   "cell_type": "markdown",
   "id": "1b0fa098",
   "metadata": {},
   "source": [
    "## 3. Predictive Distribution for a new observation in the population\n",
    "\n",
    "* This represents the `mpg` for a new car with a specific `wt`.\n",
    "* The uncertainty in this predictive distribution will be larger than the point prediction with uncertainty because we are using the posterior model error added to our prediction."
   ]
  },
  {
   "cell_type": "code",
   "execution_count": 42,
   "id": "01a74ab9",
   "metadata": {},
   "outputs": [],
   "source": [
    "## random draws from the model error\n",
    "sigma_sample = trace_b['e'][draws_id]"
   ]
  },
  {
   "cell_type": "code",
   "execution_count": 43,
   "id": "a46a30fb",
   "metadata": {},
   "outputs": [],
   "source": [
    "pred_dist = intercept_sample + beta_sample * new_wt_rep + np.random.normal(loc = 0, scale = sigma_sample, size = 1000)"
   ]
  },
  {
   "cell_type": "code",
   "execution_count": 44,
   "id": "e4afaf61",
   "metadata": {},
   "outputs": [
    {
     "data": {
      "text/plain": [
       "(array([  3.,  13.,  73., 158., 286., 265., 155.,  37.,   8.,   2.]),\n",
       " array([ 8.40579999, 10.73363928, 13.06147857, 15.38931787, 17.71715716,\n",
       "        20.04499645, 22.37283575, 24.70067504, 27.02851434, 29.35635363,\n",
       "        31.68419292]),\n",
       " <BarContainer object of 10 artists>)"
      ]
     },
     "execution_count": 44,
     "metadata": {},
     "output_type": "execute_result"
    },
    {
     "data": {
      "image/png": "[encoded data removed]",
      "text/plain": [
       "<Figure size 432x288 with 1 Axes>"
      ]
     },
     "metadata": {
      "needs_background": "light"
     },
     "output_type": "display_data"
    }
   ],
   "source": [
    "plt.hist(pred_dist)"
   ]
  },
  {
   "cell_type": "code",
   "execution_count": 45,
   "id": "dfca1306",
   "metadata": {},
   "outputs": [
    {
     "data": {
      "text/plain": [
       "(19.723608716903797, 3.1146874333718717)"
      ]
     },
     "execution_count": 45,
     "metadata": {},
     "output_type": "execute_result"
    }
   ],
   "source": [
    "pred_dist.mean(), pred_dist.std()"
   ]
  },
  {
   "cell_type": "code",
   "execution_count": 46,
   "id": "6e75d5a0",
   "metadata": {},
   "outputs": [
    {
     "data": {
      "text/plain": [
       "array([14.38619984, 19.7672159 , 24.54463523])"
      ]
     },
     "execution_count": 46,
     "metadata": {},
     "output_type": "execute_result"
    }
   ],
   "source": [
    "## 90% Quantile Interval\n",
    "np.quantile(pred_dist, [0.05, 0.5, 0.95])"
   ]
  },
  {
   "cell_type": "code",
   "execution_count": null,
   "id": "bdda619b",
   "metadata": {},
   "outputs": [],
   "source": []
  }
 ],
 "metadata": {
  "kernelspec": {
   "display_name": "Python 3 (ipykernel)",
   "language": "python",
   "name": "python3"
  },
  "language_info": {
   "codemirror_mode": {
    "name": "ipython",
    "version": 3
   },
   "file_extension": ".py",
   "mimetype": "text/x-python",
   "name": "python",
   "nbconvert_exporter": "python",
   "pygments_lexer": "ipython3",
   "version": "3.7.7"
  }
 },
 "nbformat": 4,
 "nbformat_minor": 5
}
